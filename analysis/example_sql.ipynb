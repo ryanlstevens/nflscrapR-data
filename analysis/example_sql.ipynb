{
 "metadata": {
  "language_info": {
   "codemirror_mode": {
    "name": "ipython",
    "version": 3
   },
   "file_extension": ".py",
   "mimetype": "text/x-python",
   "name": "python",
   "nbconvert_exporter": "python",
   "pygments_lexer": "ipython3",
   "version": "3.8.5-final"
  },
  "orig_nbformat": 2,
  "kernelspec": {
   "name": "python3",
   "display_name": "Python 3.8.5 64-bit ('base': conda)",
   "metadata": {
    "interpreter": {
     "hash": "23b4c140ddd4368bd701f003cd9c87eeee0395e629416ad7aa844e707127e9af"
    }
   }
  }
 },
 "nbformat": 4,
 "nbformat_minor": 2,
 "cells": [
  {
   "source": [
    "# Aggregated SQL Database : TEs, RBs, WRs\n",
    "\n",
    "## Table Name = offenseNonQB\n",
    "\n",
    "### Grain of Data \n",
    "* game_id   \n",
    "* player_id \n",
    "\n",
    "### Player/Team of Player Info\n",
    "* full_player_name\n",
    "* position\n",
    "* team_name\n",
    "* team_score_player\n",
    "* team_score_opp\n",
    "* home_game_flag\n",
    "\n",
    "### What season/when is it in Season\n",
    "* season_year\n",
    "* week_of_season\n",
    "* game_of_season\n",
    "\n",
    "### Aggregated Player Stats \n",
    "* yards_gained_total\n",
    "* touchdown_total\n",
    "* two_point_conv_total\n",
    "* touches_total\n",
    "* fumble_total \n",
    "* fumble_lost_total \n",
    "\n",
    "### Rushing Player Stats\n",
    "* yards_gained_rush \n",
    "* touchdown_rush\n",
    "* fumble_rush\n",
    "* fumble_lost_rush\n",
    "* attempts\n",
    "\n",
    "### Receiving Player Stats\n",
    "* yards_gained_rec\n",
    "* touchdown_rec\n",
    "* fumble_rec\n",
    "* fumble_lost_rec\n",
    "* targets\n",
    "* receptions\n",
    "* air_yards\n",
    "* yards_after_catch\n",
    "\n",
    "### Two Point Conversion Player Stats\n",
    "* two_point_conv_rush\n",
    "* two_point_conv_rec\n",
    "\n",
    "### Kickoff Return Player Stats\n",
    "* yards_gained_kickoff\n",
    "* touchdown_kickoff\n",
    "* fumble_kickoff\n",
    "* fumble_lost_kickoff\n",
    "* kickoff_return_attempt\n",
    "\n",
    "### Punt Return Player Stats\n",
    "* yards_gained_punt\n",
    "* touchdown_punt\n",
    "* fumble_punt\n",
    "* fumble_lost_punt \n",
    "* punt_return_attempt\n",
    "       "
   ],
   "cell_type": "markdown",
   "metadata": {}
  },
  {
   "cell_type": "code",
   "execution_count": 2,
   "metadata": {},
   "outputs": [],
   "source": [
    "import os\n",
    "import math\n",
    "import pandas as pd \n",
    "import sqlite3\n",
    "\n",
    "# Paths\n",
    "# ---------\n",
    "path_dict = {}\n",
    "path_dict['root'] = '/Users/ryanstevens/Documents/github/nflscrapR-data/'\n",
    "path_dict['games_data'] = os.path.join(path_dict['root'],'games_data')\n",
    "path_dict['pbp_data'] = os.path.join(path_dict['root'],'play_by_play_data')\n",
    "path_dict['roster_data'] = os.path.join(path_dict['root'],'roster_data')\n",
    "path_dict['sql_data'] = os.path.join(path_dict['root'],'sql_data')\n",
    "\n",
    "# SQL Info\n",
    "# ----------\n",
    "\n",
    "# Path to claim db\n",
    "path_to_sql_db = os.path.join(path_dict['sql_data'],'analysis_data_v0.db')\n",
    "\n",
    "# Create connection + cursor\n",
    "sql_connect = sqlite3.connect(path_to_sql_db)\n",
    "cursor = sql_connect.cursor()"
   ]
  },
  {
   "source": [
    "## Get receivers total touchdowns in the season, order data by touchdowns"
   ],
   "cell_type": "markdown",
   "metadata": {}
  },
  {
   "cell_type": "code",
   "execution_count": 7,
   "metadata": {},
   "outputs": [
    {
     "output_type": "execute_result",
     "data": {
      "text/plain": [
       "   touchdown_season   player_id  full_player_name\n",
       "0                80  00-0027793     Antonio Brown\n",
       "1                76  00-0022921  Larry Fitzgerald\n",
       "2                75  00-0027902        Dez Bryant\n",
       "3                70  00-0026176      Jordy Nelson\n",
       "4                68  00-0024334  Brandon Marshall"
      ],
      "text/html": "<div>\n<style scoped>\n    .dataframe tbody tr th:only-of-type {\n        vertical-align: middle;\n    }\n\n    .dataframe tbody tr th {\n        vertical-align: top;\n    }\n\n    .dataframe thead th {\n        text-align: right;\n    }\n</style>\n<table border=\"1\" class=\"dataframe\">\n  <thead>\n    <tr style=\"text-align: right;\">\n      <th></th>\n      <th>touchdown_season</th>\n      <th>player_id</th>\n      <th>full_player_name</th>\n    </tr>\n  </thead>\n  <tbody>\n    <tr>\n      <th>0</th>\n      <td>80</td>\n      <td>00-0027793</td>\n      <td>Antonio Brown</td>\n    </tr>\n    <tr>\n      <th>1</th>\n      <td>76</td>\n      <td>00-0022921</td>\n      <td>Larry Fitzgerald</td>\n    </tr>\n    <tr>\n      <th>2</th>\n      <td>75</td>\n      <td>00-0027902</td>\n      <td>Dez Bryant</td>\n    </tr>\n    <tr>\n      <th>3</th>\n      <td>70</td>\n      <td>00-0026176</td>\n      <td>Jordy Nelson</td>\n    </tr>\n    <tr>\n      <th>4</th>\n      <td>68</td>\n      <td>00-0024334</td>\n      <td>Brandon Marshall</td>\n    </tr>\n  </tbody>\n</table>\n</div>"
     },
     "metadata": {},
     "execution_count": 7
    }
   ],
   "source": [
    "query = '''SELECT sum(touchdown_total) touchdown_season,\n",
    "                  player_id,\n",
    "                  full_player_name\n",
    "           FROM offenseNonQB\n",
    "           WHERE position == 'WR'\n",
    "           GROUP BY player_id, full_player_name\n",
    "           ORDER BY touchdown_season DESC'''\n",
    "\n",
    "rec_touchdown = pd.read_sql(query\n",
    "                            ,con=sql_connect)\n",
    "\n",
    "rec_touchdown.head()"
   ]
  },
  {
   "cell_type": "code",
   "execution_count": null,
   "metadata": {},
   "outputs": [],
   "source": []
  }
 ]
}