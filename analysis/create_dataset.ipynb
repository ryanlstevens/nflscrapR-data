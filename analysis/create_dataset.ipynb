{
 "metadata": {
  "language_info": {
   "codemirror_mode": {
    "name": "ipython",
    "version": 3
   },
   "file_extension": ".py",
   "mimetype": "text/x-python",
   "name": "python",
   "nbconvert_exporter": "python",
   "pygments_lexer": "ipython3",
   "version": "3.7.9-final"
  },
  "orig_nbformat": 2,
  "kernelspec": {
   "name": "matplotlib_styles",
   "display_name": "matplotlib_styles",
   "language": "python"
  }
 },
 "nbformat": 4,
 "nbformat_minor": 2,
 "cells": [
  {
   "source": [
    "# Summary\n",
    "\n",
    "To see what variables in the dataframe mean:\n",
    "https://github.com/maksimhorowitz/nflscrapR/blob/master/R/scrape_play_by_play.R\n",
    "\n",
    "To see how to pull all the data at a player level\n",
    "\n",
    "# Data Schema \n",
    "\n",
    "## Grain \n",
    "\n",
    "Data will be at a (game,player) grain \n"
   ],
   "cell_type": "markdown",
   "metadata": {}
  },
  {
   "cell_type": "code",
   "execution_count": 2,
   "metadata": {},
   "outputs": [],
   "source": [
    "import os\n",
    "# Paths\n",
    "path_dict = {}\n",
    "path_dict['root'] = '/Users/ryanstevens/Documents/github/nflscrapR-data/'\n",
    "path_dict['games_data'] = os.path.join(path_dict['root'],'games_data')\n",
    "path_dict['pbp_data'] = os.path.join(path_dict['root'],'play_by_play_data')"
   ]
  },
  {
   "cell_type": "code",
   "execution_count": 3,
   "metadata": {},
   "outputs": [
    {
     "output_type": "execute_result",
     "data": {
      "text/plain": [
       "Index(['play_id', 'game_id', 'home_team', 'away_team', 'posteam',\n",
       "       'posteam_type', 'defteam', 'side_of_field', 'yardline_100', 'game_date',\n",
       "       ...\n",
       "       'penalty_player_id', 'penalty_player_name', 'penalty_yards',\n",
       "       'replay_or_challenge', 'replay_or_challenge_result', 'penalty_type',\n",
       "       'defensive_two_point_attempt', 'defensive_two_point_conv',\n",
       "       'defensive_extra_point_attempt', 'defensive_extra_point_conv'],\n",
       "      dtype='object', length=256)"
      ]
     },
     "metadata": {},
     "execution_count": 3
    }
   ],
   "source": [
    "import pandas as pd\n",
    "\n",
    "# Get regular season play by play data\n",
    "year = 2009\n",
    "path_to_pbp_data = os.path.join(path_dict['pbp_data'],'regular_season','reg_pbp_{year}.csv'.format(year=year))\n",
    "reg_season = pd.read_csv(path_to_pbp_data)\n",
    "\n",
    "reg_season.columns"
   ]
  },
  {
   "cell_type": "code",
   "execution_count": null,
   "metadata": {},
   "outputs": [],
   "source": []
  }
 ]
}